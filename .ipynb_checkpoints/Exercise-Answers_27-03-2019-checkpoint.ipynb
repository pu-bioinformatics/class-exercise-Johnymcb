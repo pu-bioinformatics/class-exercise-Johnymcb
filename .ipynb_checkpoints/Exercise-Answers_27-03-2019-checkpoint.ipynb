{
 "cells": [
  {
   "cell_type": "code",
   "execution_count": 1,
   "metadata": {},
   "outputs": [],
   "source": [
    "#Q1. Write a function to convert celcius to fahrenheit"
   ]
  },
  {
   "cell_type": "code",
   "execution_count": 25,
   "metadata": {},
   "outputs": [
    {
     "name": "stdout",
     "output_type": "stream",
     "text": [
      "32\n"
     ]
    }
   ],
   "source": [
    "def celciusTofarenheit(temp):\n",
    "    \n",
    "    if temp != 0:\n",
    "        results = (int(temp) * 1.8 )+ 32\n",
    "        print (results)\n",
    "    elif temp == 0:\n",
    "        results = (int(temp)+ 32)\n",
    "        print (results)\n",
    "        \n",
    "celciusTofarenheit(0)"
   ]
  },
  {
   "cell_type": "code",
   "execution_count": null,
   "metadata": {},
   "outputs": [],
   "source": [
    "celciusTofarenheit(1)"
   ]
  },
  {
   "cell_type": "code",
   "execution_count": null,
   "metadata": {},
   "outputs": [],
   "source": [
    "#Q2.Write a function that given weight and height returns the BMI of the person"
   ]
  },
  {
   "cell_type": "code",
   "execution_count": 34,
   "metadata": {},
   "outputs": [
    {
     "name": "stdout",
     "output_type": "stream",
     "text": [
      "75.0\n"
     ]
    }
   ],
   "source": [
    "def BMIcalculator(weight,height):\n",
    "    BMI = weight/height*height\n",
    "    print(BMI)\n",
    "BMIcalculator(75,1.8)"
   ]
  },
  {
   "cell_type": "code",
   "execution_count": null,
   "metadata": {},
   "outputs": [],
   "source": [
    "Create a program that asks the user to enter their name and their age. Print out a message addressed to them that tells them the year that they will turn 100 years old."
   ]
  },
  {
   "cell_type": "code",
   "execution_count": 98,
   "metadata": {},
   "outputs": [
    {
     "name": "stdin",
     "output_type": "stream",
     "text": [
      "enter your name: John\n",
      "Enter your age:  25\n"
     ]
    },
    {
     "name": "stdout",
     "output_type": "stream",
     "text": [
      " John you will be 100 years in the next 75\n"
     ]
    }
   ],
   "source": [
    "name = input('enter your name:')\n",
    "age = input ('Enter your age: ')\n",
    "#print('name %s you will be 100 years in the next' %(name))\n",
    "#print ('your age is %d' %(100 - int(age)))\n",
    "print (' %s you will be 100 years in the next %d' %(name,(100 - int(age))))  "
   ]
  },
  {
   "cell_type": "code",
   "execution_count": null,
   "metadata": {},
   "outputs": [],
   "source": [
    "Q.3 Write a function that returns the maximum of two numbers."
   ]
  },
  {
   "cell_type": "code",
   "execution_count": 69,
   "metadata": {},
   "outputs": [
    {
     "data": {
      "text/plain": [
       "10"
      ]
     },
     "execution_count": 69,
     "metadata": {},
     "output_type": "execute_result"
    }
   ],
   "source": [
    "def MaximumN(x,y):\n",
    "    return max(x,y)\n",
    "MaximumN(5,10)"
   ]
  },
  {
   "cell_type": "code",
   "execution_count": null,
   "metadata": {},
   "outputs": [],
   "source": [
    "4.# Write a function called fizz_buzz that takes a number.\n",
    "        - If the number is divisible by 3, it should return “Fizz”.\n",
    "        - If it is divisible by 5, it should return “Buzz”.\n",
    "        - If it is divisible by both 3 and 5, it should return “FizzBuzz”.\n",
    "        Otherwise, it should return the same number."
   ]
  },
  {
   "cell_type": "code",
   "execution_count": 119,
   "metadata": {},
   "outputs": [
    {
     "name": "stdout",
     "output_type": "stream",
     "text": [
      "Fizz\n"
     ]
    }
   ],
   "source": [
    "def fizz_buzz(x):\n",
    "    if x%3 == 0:\n",
    "        print('Fizz')\n",
    "    elif x%5 == 0:\n",
    "        print('Buzz')\n",
    "    elif x%3 == x%5:\n",
    "        print('FizzBuzz')\n",
    "    else:\n",
    "        print(x)\n",
    "        \n",
    "    \n",
    "    \n",
    "fizz_buzz(12)   "
   ]
  },
  {
   "cell_type": "code",
   "execution_count": 104,
   "metadata": {},
   "outputs": [
    {
     "data": {
      "text/plain": [
       "2"
      ]
     },
     "execution_count": 104,
     "metadata": {},
     "output_type": "execute_result"
    }
   ],
   "source": [
    "Q5.Write a function for checking the speed of drivers. This function should have one parameter: speed.\n",
    "        - If speed is less than 70, it should print “Ok”.\n",
    "        - Otherwise, for every 5km above the speed limit (70), it should give the driver one demerit point and print the total number of demerit points. For example, if the speed is 80, it should print: “Points: 2”.\n",
    "        - If the driver gets more than 12 points, the function should print: “License suspended”"
   ]
  },
  {
   "cell_type": "code",
   "execution_count": 136,
   "metadata": {},
   "outputs": [
    {
     "name": "stdout",
     "output_type": "stream",
     "text": [
      "License suspended\n"
     ]
    }
   ],
   "source": [
    "def speedCheck(speed):\n",
    "    if speed <= 70:\n",
    "        print('OK')\n",
    "    else:\n",
    "        if speed > 70:\n",
    "            derimitPoints = int(speed - 70)*0.2\n",
    "            if derimitPoints < 12:\n",
    "                print(derimitPoints)\n",
    "            else:\n",
    "                derimitPoints >= 12\n",
    "                print(\"License suspended\")\n",
    "                \n",
    "speedCheck(150)   "
   ]
  },
  {
   "cell_type": "code",
   "execution_count": null,
   "metadata": {},
   "outputs": [],
   "source": [
    "#6. 5. Write a function called showNumbers that takes a parameter called limit. It should print all the numbers between 0 and limit with a label to identify the even and odd numbers. For example, if the limit is 3, it should print:\n",
    "        - 0 EVEN\n",
    "        - 1 ODD\n",
    "        - 2 EVEN\n",
    "        - 3 ODD"
   ]
  },
  {
   "cell_type": "code",
   "execution_count": 34,
   "metadata": {},
   "outputs": [
    {
     "name": "stdout",
     "output_type": "stream",
     "text": [
      "[0] EVEN\n",
      "[1] ODD\n",
      "[2] EVEN\n",
      "[3] ODD\n",
      "[4] EVEN\n",
      "[5] ODD\n",
      "[6] EVEN\n"
     ]
    }
   ],
   "source": [
    "def showNumbers(limit):\n",
    "    limit+= 1\n",
    "    \n",
    "    for i in range (limit):\n",
    "            if i%2 == 0:\n",
    "                \n",
    "                print([i],'EVEN')\n",
    "                \n",
    "            else:\n",
    "                print([i],'ODD')\n",
    "        \n",
    "        \n",
    "showNumbers(6)        "
   ]
  },
  {
   "cell_type": "code",
   "execution_count": null,
   "metadata": {},
   "outputs": [],
   "source": [
    "#Q.6 6. Write a function that returns the sum of multiples of 3 and 5 between 0 and limit (parameter). For example, if limit is 20, it should return the sum of 3, 5, 6, 9, 10, 12, 15, 18, 20."
   ]
  },
  {
   "cell_type": "code",
   "execution_count": 52,
   "metadata": {},
   "outputs": [
    {
     "name": "stdout",
     "output_type": "stream",
     "text": [
      "3\n",
      "5\n",
      "6\n",
      "9\n",
      "10\n",
      "12\n",
      "15\n",
      "18\n",
      "20\n"
     ]
    }
   ],
   "source": [
    "def multiples3_5(limit):\n",
    "    limit+= 1\n",
    "    for i in range (limit):\n",
    "        if i > 0:\n",
    "            if i%3 == 0:\n",
    "                print(i)\n",
    "            elif i%5 ==0:\n",
    "                print(i)\n",
    "        \n",
    "            \n",
    "            \n",
    "multiples3_5(20)       "
   ]
  },
  {
   "cell_type": "code",
   "execution_count": null,
   "metadata": {},
   "outputs": [],
   "source": []
  },
  {
   "cell_type": "code",
   "execution_count": null,
   "metadata": {},
   "outputs": [],
   "source": [
    "#Q.10 10. Write a function that prints all the prime numbers between 0 and limit where limit is a parameter."
   ]
  },
  {
   "cell_type": "code",
   "execution_count": 90,
   "metadata": {},
   "outputs": [],
   "source": [
    "def primeNumbers(limit):\n",
    "    for num in range(limit):\n",
    "            if num > 0:\n",
    "                if num%num !=0:\n",
    "                    print(num)\n",
    "primeNumbers(10)        "
   ]
  },
  {
   "cell_type": "code",
   "execution_count": null,
   "metadata": {},
   "outputs": [],
   "source": []
  }
 ],
 "metadata": {
  "kernelspec": {
   "display_name": "Python 3",
   "language": "python",
   "name": "python3"
  },
  "language_info": {
   "codemirror_mode": {
    "name": "ipython",
    "version": 3
   },
   "file_extension": ".py",
   "mimetype": "text/x-python",
   "name": "python",
   "nbconvert_exporter": "python",
   "pygments_lexer": "ipython3",
   "version": "3.7.2"
  }
 },
 "nbformat": 4,
 "nbformat_minor": 2
}
