{
 "cells": [
  {
   "cell_type": "code",
   "execution_count": 1,
   "metadata": {},
   "outputs": [],
   "source": [
    "#Q1. Write a function to convert celcius to fahrenheit"
   ]
  },
  {
   "cell_type": "code",
   "execution_count": 2,
   "metadata": {},
   "outputs": [
    {
     "name": "stdout",
     "output_type": "stream",
     "text": [
      "32\n"
     ]
    }
   ],
   "source": [
    "def celciusTofarenheit(temp):\n",
    "    \n",
    "    if temp != 0:\n",
    "        results = (int(temp) * 1.8 )+ 32\n",
    "        print (results)\n",
    "    elif temp == 0:\n",
    "        results = (int(temp)+ 32)\n",
    "        print (results)\n",
    "        \n",
    "celciusTofarenheit()"
   ]
  },
  {
   "cell_type": "code",
   "execution_count": 4,
   "metadata": {},
   "outputs": [
    {
     "name": "stdout",
     "output_type": "stream",
     "text": [
      "33.8\n"
     ]
    }
   ],
   "source": [
    "celciusTofarenheit(1)"
   ]
  },
  {
   "cell_type": "code",
   "execution_count": null,
   "metadata": {},
   "outputs": [],
   "source": [
    "#Q2.Write a function that given weight and height returns the BMI of the person"
   ]
  },
  {
   "cell_type": "code",
   "execution_count": 12,
   "metadata": {},
   "outputs": [
    {
     "name": "stdout",
     "output_type": "stream",
     "text": [
      "24.691358024691358\n"
     ]
    }
   ],
   "source": [
    "def BMIcalculator(weight,height):\n",
    "    BMI = weight/(height*height)\n",
    "    print(BMI)\n",
    "BMIcalculator(80,1.8)"
   ]
  },
  {
   "cell_type": "code",
   "execution_count": 11,
   "metadata": {},
   "outputs": [
    {
     "name": "stdout",
     "output_type": "stream",
     "text": [
      "24.691358024691358\n"
     ]
    }
   ],
   "source": [
    "BMIcalculator(80,1.8)"
   ]
  },
  {
   "cell_type": "code",
   "execution_count": null,
   "metadata": {},
   "outputs": [],
   "source": [
    "#3.Create a program that asks the user to enter their name and their age. Print out a message addressed to them that tells them the year that they will turn 100 years old."
   ]
  },
  {
   "cell_type": "code",
   "execution_count": 13,
   "metadata": {},
   "outputs": [
    {
     "name": "stdin",
     "output_type": "stream",
     "text": [
      "enter your name: John\n",
      "Enter your age:  26\n"
     ]
    },
    {
     "name": "stdout",
     "output_type": "stream",
     "text": [
      " John you will be 100 years in the next 74 years\n"
     ]
    }
   ],
   "source": [
    "name = input('enter your name:')\n",
    "age = input ('Enter your age: ')\n",
    "#print('name %s you will be 100 years in the next' %(name))\n",
    "#print ('your age is %d' %(100 - int(age)))\n",
    "print (' %s you will be 100 years in the next %d years' %(name,(100 - int(age))))  "
   ]
  },
  {
   "cell_type": "code",
   "execution_count": null,
   "metadata": {},
   "outputs": [],
   "source": [
    "Q.4 Write a function that returns the maximum of two numbers."
   ]
  },
  {
   "cell_type": "code",
   "execution_count": 62,
   "metadata": {},
   "outputs": [
    {
     "data": {
      "text/plain": [
       "5"
      ]
     },
     "execution_count": 62,
     "metadata": {},
     "output_type": "execute_result"
    }
   ],
   "source": [
    "def MaximumN(x,y):\n",
    "    return max(x,y)\n",
    "MaximumN(5,-5)"
   ]
  },
  {
   "cell_type": "code",
   "execution_count": null,
   "metadata": {},
   "outputs": [],
   "source": [
    "5.# Write a function called fizz_buzz that takes a number.\n",
    "        - If the number is divisible by 3, it should return “Fizz”.\n",
    "        - If it is divisible by 5, it should return “Buzz”.\n",
    "        - If it is divisible by both 3 and 5, it should return “FizzBuzz”.\n",
    "        Otherwise, it should return the same number."
   ]
  },
  {
   "cell_type": "code",
   "execution_count": 61,
   "metadata": {},
   "outputs": [
    {
     "name": "stdout",
     "output_type": "stream",
     "text": [
      "14\n"
     ]
    }
   ],
   "source": [
    "def fizz_buzz(x):\n",
    "    if x%3 == 0:\n",
    "        if x%5 ==0:\n",
    "            print('FizzBuzz')\n",
    "    elif x%5 == 0:\n",
    "        print('Buzz')\n",
    "    elif x%3==0:\n",
    "        print('Fizz')\n",
    "    else:\n",
    "        print(x)\n",
    "        \n",
    "    \n",
    "    \n",
    "fizz_buzz(14)   "
   ]
  },
  {
   "cell_type": "code",
   "execution_count": 104,
   "metadata": {},
   "outputs": [
    {
     "data": {
      "text/plain": [
       "2"
      ]
     },
     "execution_count": 104,
     "metadata": {},
     "output_type": "execute_result"
    }
   ],
   "source": [
    "Q6.Write a function for checking the speed of drivers. This function should have one parameter: speed.\n",
    "        - If speed is less than 70, it should print “Ok”.\n",
    "        - Otherwise, for every 5km above the speed limit (70), it should give the driver one demerit point and print the total number of demerit points. For example, if the speed is 80, it should print: “Points: 2”.\n",
    "        - If the driver gets more than 12 points, the function should print: “License suspended”"
   ]
  },
  {
   "cell_type": "code",
   "execution_count": 30,
   "metadata": {},
   "outputs": [
    {
     "name": "stdout",
     "output_type": "stream",
     "text": [
      "1.0\n",
      "your speed is okay driving at 75 Km/h\n"
     ]
    }
   ],
   "source": [
    "def speedCheck(speed):\n",
    "    if speed <= 70:\n",
    "        print('OK')\n",
    "    else:\n",
    "        if speed > 70:\n",
    "            derimitPoints = int(speed - 70)*0.2\n",
    "            if derimitPoints < 12:\n",
    "                print(derimitPoints)\n",
    "                print ('your speed is okay driving at %d Km/h' %(speed))\n",
    "            else:\n",
    "                derimitPoints >= 12\n",
    "                print(\"License suspended\")\n",
    "                \n",
    "speedCheck(75)   "
   ]
  },
  {
   "cell_type": "code",
   "execution_count": null,
   "metadata": {},
   "outputs": [],
   "source": [
    "#7 Write a function called showNumbers that takes a parameter called limit. It should print all the numbers between 0 and limit with a label to identify the even and odd numbers. For example, if the limit is 3, it should print:\n",
    "        - 0 EVEN\n",
    "        - 1 ODD\n",
    "        - 2 EVEN\n",
    "        - 3 ODD"
   ]
  },
  {
   "cell_type": "code",
   "execution_count": 14,
   "metadata": {},
   "outputs": [
    {
     "name": "stdout",
     "output_type": "stream",
     "text": [
      "0 - EVEN\n",
      "1 - ODD\n",
      "2 - EVEN\n",
      "3 - ODD\n",
      "4 - EVEN\n",
      "5 - ODD\n",
      "6 - EVEN\n"
     ]
    }
   ],
   "source": [
    "def showNumbers(limit):\n",
    "    limit+= 1\n",
    "    \n",
    "    for i in range (limit):\n",
    "            if i%2 == 0:\n",
    "                \n",
    "                print(i,'-','EVEN')\n",
    "                \n",
    "            else:\n",
    "                print(i,'-','ODD')\n",
    "        \n",
    "        \n",
    "showNumbers(6)        "
   ]
  },
  {
   "cell_type": "code",
   "execution_count": null,
   "metadata": {},
   "outputs": [],
   "source": [
    "#Q.8  Write a function that returns the sum of multiples of 3 and 5 between 0 and limit (parameter). For example, if limit is 20, it should return the sum of 3, 5, 6, 9, 10, 12, 15, 18, 20."
   ]
  },
  {
   "cell_type": "code",
   "execution_count": 16,
   "metadata": {},
   "outputs": [
    {
     "name": "stdout",
     "output_type": "stream",
     "text": [
      "98\n"
     ]
    }
   ],
   "source": [
    "def multiples3_5(limit):\n",
    "    limit+= 1\n",
    "    Total =0\n",
    "    for i in range (limit):\n",
    "        if i%3 == 0 or i%5 ==0:\n",
    "                Total += i\n",
    "    print(Total)\n",
    "\n",
    "                \n",
    "multiples3_5()  "
   ]
  },
  {
   "cell_type": "code",
   "execution_count": 17,
   "metadata": {},
   "outputs": [
    {
     "name": "stdout",
     "output_type": "stream",
     "text": [
      "98\n"
     ]
    }
   ],
   "source": [
    "multiples3_5(20) "
   ]
  },
  {
   "cell_type": "code",
   "execution_count": null,
   "metadata": {},
   "outputs": [],
   "source": [
    "9. Write a function called show_stars(rows). If rows is 5, it should print the following:\n",
    "    \n",
    "        *\n",
    "        **\n",
    "        ***\n",
    "        ****\n",
    "        *****"
   ]
  },
  {
   "cell_type": "code",
   "execution_count": null,
   "metadata": {},
   "outputs": [],
   "source": []
  },
  {
   "cell_type": "code",
   "execution_count": 20,
   "metadata": {},
   "outputs": [
    {
     "name": "stdout",
     "output_type": "stream",
     "text": [
      "*\n",
      "**\n",
      "***\n",
      "****\n",
      "*****\n"
     ]
    }
   ],
   "source": [
    "def Show_stars(rows):\n",
    "    star = '*'\n",
    "    for i in range(rows):\n",
    "        #print(star)\n",
    "        \n",
    "        if len(star) <= 5:\n",
    "            print(star)\n",
    "            star= star + '*'\n",
    "        \n",
    "Show_stars(5)    "
   ]
  },
  {
   "cell_type": "code",
   "execution_count": null,
   "metadata": {},
   "outputs": [],
   "source": [
    "#Q.10 10. Write a function that prints all the prime numbers between 0 and limit where limit is a parameter."
   ]
  },
  {
   "cell_type": "code",
   "execution_count": 21,
   "metadata": {},
   "outputs": [
    {
     "name": "stdout",
     "output_type": "stream",
     "text": [
      "[2, 3, 5, 7, 11, 13, 17, 19, 23, 29, 31, 37, 41, 43, 47]\n"
     ]
    }
   ],
   "source": [
    "def primeNumbers(limit):\n",
    "    primelist= [2,3,5,7]\n",
    "    for num in range(limit):\n",
    "            if num > 1:\n",
    "                if num%2 != 0 and num%3 != 0 and num%5 != 0 and num%7 != 0:\n",
    "                    \n",
    "                    #print(num)\n",
    "                    primelist.append(num)\n",
    "    print(primelist)\n",
    "            \n",
    "                    \n",
    "primeNumbers(50)        "
   ]
  }
 ],
 "metadata": {
  "kernelspec": {
   "display_name": "Python 3",
   "language": "python",
   "name": "python3"
  },
  "language_info": {
   "codemirror_mode": {
    "name": "ipython",
    "version": 3
   },
   "file_extension": ".py",
   "mimetype": "text/x-python",
   "name": "python",
   "nbconvert_exporter": "python",
   "pygments_lexer": "ipython3",
   "version": "3.7.2"
  }
 },
 "nbformat": 4,
 "nbformat_minor": 2
}
